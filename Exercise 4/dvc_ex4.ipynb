{
 "metadata": {
  "language_info": {
   "codemirror_mode": {
    "name": "ipython",
    "version": 3
   },
   "file_extension": ".py",
   "mimetype": "text/x-python",
   "name": "python",
   "nbconvert_exporter": "python",
   "pygments_lexer": "ipython3",
   "version": "3.8.3-final"
  },
  "orig_nbformat": 2,
  "kernelspec": {
   "name": "python_defaultSpec_1597912784783",
   "display_name": "Python 3.8.3 64-bit"
  }
 },
 "nbformat": 4,
 "nbformat_minor": 2,
 "cells": [
  {
   "cell_type": "code",
   "execution_count": 58,
   "metadata": {
    "tags": []
   },
   "outputs": [],
   "source": [
    "import pandas as pd\n",
    "import numpy as np\n",
    "import os\n",
    "from bokeh.core.properties import field\n",
    "from bokeh.io import curdoc\n",
    "from bokeh.layouts import layout\n",
    "from bokeh.models import (ColumnDataSource, HoverTool, SingleIntervalTicker,\n",
    "                          Slider, Button, Label, CategoricalColorMapper)\n",
    "from bokeh.palettes import Spectral8\n",
    "from bokeh.plotting import figure\n",
    "\n",
    "__file__ = 'countries.csv'\n",
    "my_absolute_dirpath = os.path.abspath(os.path.dirname(__file__))\n",
    "countries_df = pd.read_csv(os.path.join(my_absolute_dirpath,__file__))\n",
    "\n",
    "__file__ = 'data.csv' # replace with 'data_short.csv' if facing memory error\n",
    "my_absolute_dirpath = os.path.abspath(os.path.dirname(__file__))\n",
    "indicators_df = pd.read_csv(os.path.join(my_absolute_dirpath,__file__)) \n",
    "\n",
    "\n",
    "# Hint: Go to the reference for more details: https://github.com/bokeh/bokeh/tree/master/examples/app/gapminder\n",
    "\n",
    "# =====================================\n",
    "# ====== Your code starts here ========\n",
    "# =====================================\n",
    "\n",
    "# add one more column about populatin size into indicators_df\n",
    "\n",
    "scale_factor = 200\n",
    "min_size = 3\n",
    "indicators_df[\"population_size\"] = np.sqrt(indicators_df[\"population\"] / np.pi) / scale_factor\n",
    "indicators_df[\"population_size\"] = indicators_df[\"population_size\"].where(indicators_df[\"population_size\"] >= min_size).fillna(min_size)\n",
    "\n",
    "\n",
    "# extract dataframe for each indicator: life expactancy, population size and income\n",
    "\n",
    "life_expectancy_df = indicators_df[[\"country\", \"year\", \"life_expectancy\"]]\n",
    "population_size_df = indicators_df[[\"country\", \"year\", \"population_size\"]]\n",
    "income_df = indicators_df[[\"country\", \"year\", \"income\"]]\n",
    "\n",
    "\n",
    "# set up the regions_df\n",
    "regions_df = pd.merge(indicators_df[[\"country\", \"year\"]], countries_df[[\"country\", \"six_regions\"]], how=\"left\", on=\"country\")\n",
    "\n",
    "\n",
    "# construct a compact dataframe and the data source\n",
    "\n",
    "\n",
    "# plotting\n",
    "\n",
    "# add update functions\n",
    "\n",
    "# add layout"
   ]
  },
  {
   "cell_type": "code",
   "execution_count": null,
   "metadata": {},
   "outputs": [],
   "source": []
  }
 ]
}